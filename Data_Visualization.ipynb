{
  "nbformat": 4,
  "nbformat_minor": 0,
  "metadata": {
    "colab": {
      "private_outputs": true,
      "provenance": [],
      "gpuType": "T4",
      "mount_file_id": "1XRp7hyTpbCCc21UCxNT2XwVxaEb_uxO-",
      "authorship_tag": "ABX9TyP1uDMPJDMPQ4TO9x1xcrIV",
      "include_colab_link": true
    },
    "kernelspec": {
      "name": "python3",
      "display_name": "Python 3"
    },
    "language_info": {
      "name": "python"
    },
    "accelerator": "GPU"
  },
  "cells": [
    {
      "cell_type": "markdown",
      "metadata": {
        "id": "view-in-github",
        "colab_type": "text"
      },
      "source": [
        "<a href=\"https://colab.research.google.com/github/Sameer-30/Data-Science-With-Python/blob/main/Data_Visualization.ipynb\" target=\"_parent\"><img src=\"https://colab.research.google.com/assets/colab-badge.svg\" alt=\"Open In Colab\"/></a>"
      ]
    },
    {
      "cell_type": "markdown",
      "source": [
        "#**Data Visualization with Python**\n",
        "###**1. Introduction to Data Visualization**\n",
        "Data visualization is a critical component of data science, enabling analysts to:\n",
        "\n",
        "\n",
        "*   Explore patterns, trends, and outliers in data.\n",
        "*  Communicate insights effectively to stakeholders.\n",
        "\n",
        "\n",
        "*   Simplify complex data through graphical representation.\n",
        "\n",
        "Common types of visualizations include line plots, bar charts, scatter plots, histograms, heatmaps, and box plots. Python libraries like `Matplotlib`, `Seaborn`, and `Plotly` simplify the creation of these visualizations."
      ],
      "metadata": {
        "id": "RZle_t9sYkwv"
      }
    },
    {
      "cell_type": "markdown",
      "source": [
        "###**2. Matplotlib: The Foundational Library**\n",
        "`Matplotlib` is a low-level library for creating static, interactive, or animated visualizations. It provides full customization of plots.\n",
        "##**Installation**"
      ],
      "metadata": {
        "id": "G3YVBoUaaO45"
      }
    },
    {
      "cell_type": "code",
      "source": [
        "pip install matplotlib"
      ],
      "metadata": {
        "id": "p-_dh-zbav5U"
      },
      "execution_count": null,
      "outputs": []
    },
    {
      "cell_type": "code",
      "source": [
        "import matplotlib.pyplot as plt\n",
        "import seaborn as sns\n",
        "%matplotlib inline"
      ],
      "metadata": {
        "id": "lJvsXbGubcux"
      },
      "execution_count": null,
      "outputs": []
    },
    {
      "cell_type": "markdown",
      "source": [
        "`seaborn` is a data visualization library built on top of matplotlib. It provides a high-level interface for drawing attractive and informative statistical graphics (e.g., heatmaps, violin plots, etc.).\n",
        "`sns` is an alias for seaborn. `%matplotlib inline` is a magic command specific to Jupyter notebooks and Google Colab. It ensures that the plots are rendered directly in the notebook (i.e., **inline**), below the code cell where the plot is created. Without this, the plot may open in a separate window, depending on the environment."
      ],
      "metadata": {
        "id": "lqM7oEJeb758"
      }
    },
    {
      "cell_type": "code",
      "source": [
        "# Example plot with matplotlib\n",
        "plt.plot([1, 2, 3], [4, 5, 6])\n",
        "plt.show()\n",
        "\n",
        "#Example plot with seaborn\n",
        "sns.set(style=\"darkgrid\")\n",
        "sns.lineplot(x=[1, 2, 3], y=[4, 5, 6])\n"
      ],
      "metadata": {
        "id": "qRmP9LMDblmP"
      },
      "execution_count": null,
      "outputs": []
    },
    {
      "cell_type": "markdown",
      "source": [
        "##**3. Line Plot**\n",
        "A **line plot** is a basic type of plot used to visualize data points connected by straight lines. It is especially useful for showing trends over a period of time or any continuous data. In a line plot, the data points are plotted on a graph, and lines are drawn between them to connect the points in order. This helps to illustrate the relationship between the variables.\n",
        "\n",
        "###**Key Features:**\n",
        "\n",
        "\n",
        "*   **X-axis (Horizontal):** Represents the independent variable (e.g., time, categories, or other continuous data).\n",
        "*   **Y-axis (Vertical):** Represents the dependent variable (the variable you're measuring or tracking).\n",
        "\n",
        "###**Use Cases:**\n",
        "\n",
        "\n",
        "*   **Time Series Data:** Line plots are often used to show how a value changes over time (e.g., stock prices, temperature trends).\n",
        "*   **Trends and Patterns:** They can reveal trends, fluctuations, or patterns in data, making it easier to observe changes and relationships.\n",
        "*   **Comparing Multiple Series:** You can plot multiple lines on the same graph to compare different sets of data.\n",
        "\n",
        "\n",
        "**Example:**\n",
        "Here's an example of how to create a simple line plot in Python using matplotlib and seaborn.\n",
        "\n",
        "\n",
        "\n",
        "Let’s assume the following temperature data (in Celsius) for a city over 7 days:\n",
        "\n",
        "* Monday: 22°C\n",
        "* Tuesday: 24°C\n",
        "* Wednesday: 19°C\n",
        "* Thursday: 21°C\n",
        "* Friday: 23°C\n",
        "* Saturday: 25°C\n",
        "* Sunday: 20°C\n",
        "\n",
        "We'll use this data to create a line plot that shows how the temperature changes day by day.\n",
        "\n",
        "\n",
        "\n",
        "\n",
        "\n",
        "\n",
        "\n"
      ],
      "metadata": {
        "id": "IRReFc51dede"
      }
    },
    {
      "cell_type": "markdown",
      "source": [
        "###**Using `Matplotlib`**"
      ],
      "metadata": {
        "id": "viTlvUPLhMQF"
      }
    },
    {
      "cell_type": "code",
      "source": [
        "import matplotlib.pyplot as plt\n",
        "import seaborn as sns\n",
        "\n",
        "# Temperatures in Celsius for a week\n",
        "days = ['Mon', 'Tue', 'Wed', 'Thu', 'Fri', 'Sat', 'Sun']\n",
        "temperatures = [22, 24, 19, 21, 23, 25, 20]\n",
        "\n",
        "# Create a line plot\n",
        "plt.plot(days, temperatures)\n",
        "\n",
        "# Add title and labels\n",
        "plt.title('Weekly Temperature Trend in Celsius')\n",
        "plt.xlabel('Days')\n",
        "plt.ylabel('Temperature (°C)')\n",
        "\n",
        "\n",
        "# Display the plot\n",
        "plt.show()\n"
      ],
      "metadata": {
        "id": "hjX76ShQciuV"
      },
      "execution_count": null,
      "outputs": []
    },
    {
      "cell_type": "markdown",
      "source": [
        "###**Using `Seaborn`**\n",
        "`seaborn` makes it easier to generate aesthetically pleasing line plots with some built-in styling."
      ],
      "metadata": {
        "id": "PwEPBYUIhU_F"
      }
    },
    {
      "cell_type": "code",
      "source": [
        "import seaborn as sns\n",
        "import matplotlib.pyplot as plt\n",
        "\n",
        "# Temperatures in Celsius for a week\n",
        "days = ['Mon', 'Tue', 'Wed', 'Thu', 'Fri', 'Sat', 'Sun']\n",
        "temperatures = [22, 24, 19, 21, 23, 25, 20]\n",
        "\n",
        "# Set Seaborn style\n",
        "sns.set(style=\"darkgrid\")\n",
        "\n",
        "# Create a line plot\n",
        "sns.lineplot(x=days, y=temperatures)\n",
        "\n",
        "# Add title and labels\n",
        "plt.title('Weekly Temperature Trend in Celsius')\n",
        "plt.xlabel('Days')\n",
        "plt.ylabel('Temperature (°C) ')\n",
        "\n",
        "# Display the plot\n",
        "plt.show()\n"
      ],
      "metadata": {
        "id": "tVjEoCsvgyzT"
      },
      "execution_count": null,
      "outputs": []
    },
    {
      "cell_type": "markdown",
      "source": [
        "###**Additional Features in Line Plots:**\n",
        "* **Markers:** You can add markers to the data points to make them more visible.\n",
        "* **Multiple Lines:** You can plot multiple lines on the same graph by passing multiple x and y values.\n",
        "*   **Line Styles:** You can change the color, style (solid, dashed), and width of the lines.\n",
        "\n",
        "\n",
        "\n",
        "\n",
        "\n"
      ],
      "metadata": {
        "id": "bZQPT4FkievW"
      }
    },
    {
      "cell_type": "code",
      "source": [
        "import seaborn as sns\n",
        "import matplotlib.pyplot as plt\n",
        "\n",
        "# Temperatures in Celsius for a week\n",
        "days = ['Mon', 'Tue', 'Wed', 'Thu', 'Fri', 'Sat', 'Sun']\n",
        "temperatures = [22, 24, 19, 21, 23, 25, 20]\n",
        "\n",
        "# Set Seaborn style for a cleaner look\n",
        "sns.set(style=\"darkgrid\")\n",
        "\n",
        "# Create a line plot\n",
        "sns.lineplot(x=days, y=temperatures, marker='o', color='blue', linewidth=2)\n",
        "\n",
        "# Adding title and labels\n",
        "plt.title('Weekly Temperature Trend in Celsius', fontsize=16)\n",
        "plt.xlabel('Day', fontsize=12)\n",
        "plt.ylabel('Temperature (°C)', fontsize=12)\n",
        "\n",
        "# Display the plot\n",
        "plt.show()\n",
        "\n"
      ],
      "metadata": {
        "id": "u2QKzPdDh6z9"
      },
      "execution_count": null,
      "outputs": []
    },
    {
      "cell_type": "markdown",
      "source": [
        "###**Comparing Temperatures in Two Cities Over a Week**\n",
        "Let’s assume we have the temperature data for City A and City B over the same 7 days:\n",
        "\n",
        "* **City A:** [22, 24, 19, 21, 23, 25, 20] (Temperatures in Celsius)\n",
        "* **City B:** [18, 21, 17, 19, 20, 22, 19] (Temperatures in Celsius)\n",
        "\n",
        "We’ll plot both cities on the same line plot, each with different colors and a legend to identify which line corresponds to which city."
      ],
      "metadata": {
        "id": "gmLrE8vokqDT"
      }
    },
    {
      "cell_type": "code",
      "source": [
        "import seaborn as sns\n",
        "import matplotlib.pyplot as plt\n",
        "\n",
        "# Data for two cities\n",
        "days = ['Mon', 'Tue', 'Wed', 'Thu', 'Fri', 'Sat', 'Sun']\n",
        "city_a_temperatures = [22, 24, 19, 21, 23, 25, 20]\n",
        "city_b_temperatures = [18, 21, 17, 19, 20, 22, 19]\n",
        "\n",
        "# Set Seaborn style for a cleaner look\n",
        "sns.set(style=\"darkgrid\")\n",
        "\n",
        "# Create line plots for both cities\n",
        "sns.lineplot(x=days, y=city_a_temperatures, label='City A', color='blue', marker='o', linewidth=2)\n",
        "sns.lineplot(x=days, y=city_b_temperatures, label='City B', color='green', marker='s', linewidth=2)\n",
        "\n",
        "# Adding title and labels\n",
        "plt.title('Weekly Temperature Comparison: City A vs City B', fontsize=14)\n",
        "plt.xlabel('Day ', fontsize=12)\n",
        "plt.ylabel('Temperature (°C)', fontsize=12)\n",
        "\n",
        "# Display the legend\n",
        "plt.legend()\n",
        "\n",
        "# Display the plot\n",
        "plt.show()\n"
      ],
      "metadata": {
        "id": "AdCviZQxk1er"
      },
      "execution_count": null,
      "outputs": []
    },
    {
      "cell_type": "markdown",
      "source": [
        "###**Advantages of Line Plots:**\n",
        "* **Easy to interpret:** Trends and changes are clearly visible.\n",
        "* **Compact visualization:** Shows data trends in a simple and clean way.\n",
        "* **Versatile:** Works for both small and large datasets, and you can compare multiple variables.\n",
        "###**Disadvantages:**\n",
        "* **Not suitable for categorical data:** Line plots work best for continuous data, and using them for categorical data can lead to misleading results."
      ],
      "metadata": {
        "id": "vGbOjaxzjy4e"
      }
    },
    {
      "cell_type": "markdown",
      "source": [
        "##**3. Scatter Plot**\n",
        "A scatter plot is a graphical representation used to visualize the relationship between two continuous variables. It is created by plotting individual data points on a two-dimensional axis, where each axis represents one variable. The points in the plot show how much one variable is affected by another. Scatter plots are ideal for identifying correlations, clusters, and outliers.\n",
        "\n",
        "* **Positive Correlation:** When data points trend upward (from left to right), it shows that as one variable increases, the other increases.\n",
        "* **Negative Correlation:** When data points trend downward, it shows that as one variable increases, the other decreases.\n",
        "* **No Correlation:** If data points are spread randomly without any clear pattern, the variables are uncorrelated.\n",
        "\n",
        "In machine learning and data science, scatter plots are a powerful tool for exploring datasets, identifying patterns, and making preliminary analyses.\n",
        "\n",
        "###**Example:** Scatter Plot using the Iris Flower Dataset\n",
        "\n",
        "The Iris flower dataset is one of the most famous datasets in machine learning. It contains measurements of petal length, petal width, sepal length, and sepal width for three different species of Iris flowers:\n",
        "\n",
        "* Iris Setosa\n",
        "* Iris Virginica\n",
        "* Iris Versicolor\n",
        "\n",
        "This dataset is widely used for classification tasks, and it's often one of the first datasets used when learning machine learning techniques. It has **150 records** (50 samples from each species) and 5 attributes:\n",
        "\n",
        "* Petal Length (cm)\n",
        "* Petal Width (cm)\n",
        "* Sepal Length (cm)\n",
        "* Sepal Width (cm)\n",
        "* Class (Species)\n",
        "\n",
        "The dataset is publicly available from the UCI Machine Learning Repository and is often used in classification problems to predict the species of the Iris flowers based on the four measurement attributes.\n",
        "\n",
        "###**Scatter Plot of the Iris Dataset**\n",
        "Let's use a scatter plot to visualize the relationship between petal length and petal width for the three species in the Iris dataset. We will plot each species with a different color for easy distinction."
      ],
      "metadata": {
        "id": "ubhLIyozmEs1"
      }
    },
    {
      "cell_type": "code",
      "source": [
        "import seaborn as sns\n",
        "import matplotlib.pyplot as plt\n",
        "from sklearn.datasets import load_iris\n",
        "import pandas as pd\n",
        "\n",
        "# Load Iris dataset\n",
        "iris = load_iris()\n",
        "data = pd.DataFrame(data=iris.data, columns=iris.feature_names)\n",
        "data['species'] = iris.target_names[iris.target]\n",
        "\n",
        "# Create scatter plot for Petal Length vs Petal Width\n",
        "sns.scatterplot(x='petal length (cm)', y='petal width (cm)', hue='species', data=data, palette='Set1')\n",
        "\n",
        "# Adding title and labels\n",
        "plt.title('Petal Length vs Petal Width - Iris Dataset', fontsize=16)\n",
        "plt.xlabel('Petal Length (cm)', fontsize=12)\n",
        "plt.ylabel('Petal Width (cm)', fontsize=12)\n",
        "\n",
        "# Display the plot\n",
        "plt.show()\n"
      ],
      "metadata": {
        "id": "ZGx8UC5dm7iT"
      },
      "execution_count": null,
      "outputs": []
    },
    {
      "cell_type": "markdown",
      "source": [
        "###**Key Observations:**\n",
        "* **Cluster Formation:** We’ll notice that the three species are well-separated based on their petal length and petal width. This could indicate that these two features might be helpful in classifying the species.\n",
        "* **Distinct Groups:** Iris Setosa appears to form a clear cluster, while Iris Virginica and Iris Versicolor show more overlap but are still distinguishable.\n",
        "* **Correlations:** There might be a slight positive correlation between petal length and petal width, as the points tend to trend upwards."
      ],
      "metadata": {
        "id": "-Rke_ScPx9Qd"
      }
    },
    {
      "cell_type": "markdown",
      "source": [
        "## **4. Histogram**\n",
        "A histogram is a type of graph used to represent the distribution of a dataset. It is created by grouping the data into bins (or intervals) and counting how many data points fall into each bin. The height of each bar represents the frequency (or count) of data points that fall within the corresponding bin. Histograms are particularly useful for understanding the distribution of numerical data.\n",
        "\n",
        "**Key Points about Histograms:**\n",
        "\n",
        "* **Bins/Intervals:** The range of data is divided into intervals, and the bars represent how many data points fall within each interval.\n",
        "* **Shape of Distribution:** Histograms can reveal the shape of the distribution (e.g., normal, skewed, bimodal), helping us understand the underlying structure of the data.\n",
        "* **Skewness:** The distribution may be left-skewed (long tail on the left) or right-skewed (long tail on the right), indicating the presence of extreme values on one side.\n",
        "* **Outliers:** Outliers are data points that fall far outside the majority of the data. In a histogram, outliers appear as isolated bars at the extreme ends.\n",
        "\n",
        "Now, let's apply a histogram to the Iris dataset and explore Petal Length. We will also calculate and interpret important statistical measures such as mean, median, standard deviation, variance, and skewness.\n",
        "\n",
        "## **Example**: Histogram for Petal Length in the Iris Dataset\n",
        "We will plot the histogram for Petal Length (in cm) for the three species of Iris flowers in the dataset, and calculate key statistics like mean, median, standard deviation, variance, and skewness."
      ],
      "metadata": {
        "id": "Nfb4QoQ0zb_t"
      }
    },
    {
      "cell_type": "code",
      "source": [
        "# load data into a Pandas dataframe\n",
        "flowers_df = sns.load_dataset(\"iris\")"
      ],
      "metadata": {
        "id": "saicYP_E2Syf"
      },
      "execution_count": null,
      "outputs": []
    },
    {
      "cell_type": "code",
      "source": [
        "flowers_df.sepal_width"
      ],
      "metadata": {
        "id": "KUBADQjc3Uys"
      },
      "execution_count": null,
      "outputs": []
    },
    {
      "cell_type": "code",
      "source": [
        "flowers_df.describe()"
      ],
      "metadata": {
        "id": "BH8KdcfE3kUm"
      },
      "execution_count": null,
      "outputs": []
    },
    {
      "cell_type": "markdown",
      "source": [
        "### **Count**  \n",
        "- Represents the **total number of observations** in the dataset (**150 samples**).  \n",
        "\n",
        "### **Mean (Average)**  \n",
        "- The **mean** represents the **central tendency** of the data.  \n",
        "- Example: The **average petal length** is **3.758 cm**, meaning most flowers have a petal length around this value.  \n",
        "\n",
        "### **Standard Deviation (Std)**  \n",
        "- Measures the **spread** of the data.  \n",
        "- A **low standard deviation** means values are **closely clustered** around the mean, while a **high standard deviation** indicates **greater variation**.  \n",
        "- Example: Petal length has the highest **standard deviation (1.765)**, indicating that petal length varies significantly across species.  \n",
        "\n",
        "### **Minimum (Min) and Maximum (Max) Values**  \n",
        "- These represent the **smallest** and **largest** values recorded in the dataset.  \n",
        "- Example: The **smallest petal length** is **1.0 cm**, while the **largest** is **6.9 cm**, showing a **wide range**.  \n",
        "\n",
        "### **Quartiles (Q1, Q2, Q3)**  \n",
        "- **25% (Q1)** → The first quartile represents the value **below which 25%** of observations fall.  \n",
        "- **50% (Q2 - Median)** → The **middle value** when data is sorted in ascending order.  \n",
        "- **75% (Q3)** → The third quartile represents the value **below which 75%** of observations fall.  \n",
        "\n",
        "Example:\n",
        "- **Median Sepal Width = 3.0 cm**, meaning half of the flowers have a **sepal width** below **3.0 cm** and half have widths above **3.0 cm**.  \n",
        "- **75% of flowers have petal lengths below 5.1 cm**, while the **remaining 25%** have longer petal lengths.  \n",
        "\n",
        "\n",
        "\n",
        "##**Key Insights from the Data**  \n",
        " - **Petal Length and Width have higher variability**, as seen from their **higher standard deviation**.  \n",
        " - **Sepal measurements are more stable** compared to petal measurements.  \n",
        " - The **range (Min to Max) for Sepal Width is smaller** compared to other features, indicating **less variability** in Sepal Width.  \n",
        " - The **quartiles help us understand data spread**: for example, 50% of flowers have petal lengths between **1.6 cm and 5.1 cm**."
      ],
      "metadata": {
        "id": "sK6kpQze4JMQ"
      }
    },
    {
      "cell_type": "code",
      "source": [
        "plt.title(\"Distribution of Sepal Width\")\n",
        "plt.hist(flowers_df.sepal_width);"
      ],
      "metadata": {
        "id": "wdQxYoHN5EOH"
      },
      "execution_count": null,
      "outputs": []
    },
    {
      "cell_type": "markdown",
      "source": [
        "Following line creates a histogram of the sepal width from the flowers_df dataset, dividing the data into 5 bins to visualize its frequency distribution."
      ],
      "metadata": {
        "id": "oTiiJlmL6YV_"
      }
    },
    {
      "cell_type": "code",
      "source": [
        "#specifying the numbers of bins\n",
        "plt.hist(flowers_df.sepal_width, bins=5);"
      ],
      "metadata": {
        "id": "6emUh6l05uch"
      },
      "execution_count": null,
      "outputs": []
    },
    {
      "cell_type": "code",
      "source": [
        "import numpy as np\n",
        "np.arange(2,5,0.25)\n",
        "# Specifying the boundaries of each bin\n",
        "plt.hist(flowers_df.sepal_width, bins=np.arange(2,5,0.25));"
      ],
      "metadata": {
        "id": "69w1H7h96h5Z"
      },
      "execution_count": null,
      "outputs": []
    },
    {
      "cell_type": "code",
      "source": [
        "# Beans of unequal sizes\n",
        "plt.hist(flowers_df.sepal_width, bins=[1,3,4,4.5]);"
      ],
      "metadata": {
        "id": "KCOB9KKM6xPp"
      },
      "execution_count": null,
      "outputs": []
    },
    {
      "cell_type": "markdown",
      "source": [
        "##**Multiple Histogram**"
      ],
      "metadata": {
        "id": "gAnzuyGN8AoG"
      }
    },
    {
      "cell_type": "code",
      "source": [
        "import seaborn as sns\n",
        "import matplotlib.pyplot as plt\n",
        "import pandas as pd\n",
        "import numpy as np\n",
        "from sklearn.datasets import load_iris\n",
        "\n",
        "# Load Iris dataset\n",
        "iris = load_iris()\n",
        "data = pd.DataFrame(data=iris.data, columns=iris.feature_names)\n",
        "data['species'] = iris.target_names[iris.target]\n",
        "\n",
        "# Plot histogram for Petal Length\n",
        "plt.figure(figsize=(10, 6))\n",
        "sns.histplot(data=data, x='petal length (cm)', hue='species', kde=True, bins=15, palette='Set1', edgecolor='black')\n",
        "\n",
        "# Adding title and labels\n",
        "plt.title('Histogram of Petal Length by Iris Species', fontsize=16)\n",
        "plt.xlabel('Petal Length (cm)', fontsize=12)\n",
        "plt.ylabel('Frequency', fontsize=12)\n",
        "\n",
        "# Display the plot\n",
        "plt.show()\n",
        "\n",
        "\n"
      ],
      "metadata": {
        "id": "vfCkf_hpweqm"
      },
      "execution_count": null,
      "outputs": []
    },
    {
      "cell_type": "markdown",
      "source": [
        "#  **5. Bar Chart**\n",
        "\n",
        "##**What is a Bar Chart?**\n",
        "A **bar chart** (or bar plot) is a graphical representation used to display **categorical data** using rectangular bars. The height (or length) of the bars represents the **frequency** or **value** of each category.\n",
        "\n",
        "##**Key Features of a Bar Chart**\n",
        "**Categorical Data**: Used to compare different categories (e.g., different flower species, sales data, etc.).  \n",
        "- **Bars with Equal Width**: The width of bars remains constant, while the height varies based on value.  \n",
        "- **Gaps Between Bars**: Unlike histograms, bar charts have gaps to indicate separate categories.  \n",
        "- **Horizontal or Vertical**: Bars can be plotted either horizontally or vertically.  \n",
        "\n",
        "\n",
        "##**Example: Average Sepal Width for Each Iris Species**\n",
        "We'll use the **Iris dataset**, where we visualize the **average sepal width** for each flower species (`setosa`, `versicolor`, and `virginica`).  "
      ],
      "metadata": {
        "id": "k6xJOawt9XeS"
      }
    },
    {
      "cell_type": "code",
      "source": [
        "import matplotlib.pyplot as plt\n",
        "import seaborn as sns\n",
        "import pandas as pd\n",
        "\n",
        "# Load the Iris dataset\n",
        "from seaborn import load_dataset\n",
        "flowers_df = load_dataset(\"iris\")\n",
        "\n",
        "# Calculate the mean sepal width for each species\n",
        "sepal_width_avg = flowers_df.groupby(\"species\")[\"sepal_width\"].mean()\n",
        "\n",
        "# Plot the bar chart\n",
        "plt.figure(figsize=(7,5))\n",
        "sns.barplot(x=sepal_width_avg.index, y=sepal_width_avg.values, palette=\"viridis\")\n",
        "\n",
        "# Add labels and title\n",
        "plt.xlabel(\"Species\", fontsize=12)\n",
        "plt.ylabel(\"Average Sepal Width (cm)\", fontsize=12)\n",
        "plt.title(\"Average Sepal Width for Each Iris Species\", fontsize=14)\n",
        "\n",
        "# Show the plot\n",
        "plt.show()"
      ],
      "metadata": {
        "id": "jRKpnYsI-ZMR"
      },
      "execution_count": null,
      "outputs": []
    },
    {
      "cell_type": "markdown",
      "source": [
        "Let's take a look at another data sets"
      ],
      "metadata": {
        "id": "rFgOQZNVCB3_"
      }
    },
    {
      "cell_type": "code",
      "source": [
        "tips_df= sns.load_dataset(\"tips\")\n",
        "tips_df"
      ],
      "metadata": {
        "id": "lGDs-NV50JN_"
      },
      "execution_count": null,
      "outputs": []
    },
    {
      "cell_type": "code",
      "source": [
        "sns.barplot(x='day', y='total_bill', data=tips_df);"
      ],
      "metadata": {
        "id": "c7HTOocR_e_d"
      },
      "execution_count": null,
      "outputs": []
    },
    {
      "cell_type": "code",
      "source": [
        "sns.barplot(x='day', y='total_bill', hue='sex', data=tips_df);"
      ],
      "metadata": {
        "id": "H16J0dyMB4XQ"
      },
      "execution_count": null,
      "outputs": []
    },
    {
      "cell_type": "markdown",
      "source": [
        "# **6. Heat Map**\n",
        "\n",
        "##**What is a Heatmap?**\n",
        "A **heatmap** is a **graphical representation of data** where individual values are represented using a **color gradient**. It is commonly used to visualize **correlations, relationships, and distributions** in a dataset.\n",
        "\n",
        "\n",
        "## **Key Features of a Heatmap**\n",
        "- **Color-Coded Representation**: Different colors indicate different magnitudes of data values.  \n",
        "- **Best for Correlation Matrices**: Shows relationships between numerical variables.  \n",
        "- **Darker/Brighter Colors Indicate Trends**: Higher values may have **darker** or **brighter** colors, depending on the chosen color scheme.  "
      ],
      "metadata": {
        "id": "5al60fXGDGf2"
      }
    },
    {
      "cell_type": "code",
      "source": [
        "flights_df = sns.load_dataset(\"flights\").pivot(index=\"month\", columns=\"year\", values=\"passengers\");"
      ],
      "metadata": {
        "id": "ioMCHUbBA9cR"
      },
      "execution_count": null,
      "outputs": []
    },
    {
      "cell_type": "code",
      "source": [
        "flights_df"
      ],
      "metadata": {
        "id": "D1HqSEQVDyPd"
      },
      "execution_count": null,
      "outputs": []
    },
    {
      "cell_type": "code",
      "source": [
        "plt.title(\"No. of Passengers (1000s)\")\n",
        "sns.heatmap(flights_df);"
      ],
      "metadata": {
        "id": "_HG_MDHWEN_H"
      },
      "execution_count": null,
      "outputs": []
    },
    {
      "cell_type": "markdown",
      "source": [
        "The brighter colors indicate a higher footfall at the airport. By looking at the graph, we can infer two things:\n",
        "* The footfall at the airport in any given year tends to be the hihest around July & August.\n",
        "* The footfall at the airport in any given month tends to grow year by year.\n",
        "\n",
        "We can also display the actual values in each block by specifying `annot=True`, and use the `cmap` argument to change the color palette."
      ],
      "metadata": {
        "id": "feaoRAT8EvDN"
      }
    },
    {
      "cell_type": "code",
      "source": [
        "plt.figure(figsize=(12, 6))\n",
        "plt.title(\"No. of Passengers (1000s)\")\n",
        "sns.heatmap(flights_df, annot=True, cmap=\"YlGnBu\");"
      ],
      "metadata": {
        "id": "RxN_s8ppElZE"
      },
      "execution_count": null,
      "outputs": []
    },
    {
      "cell_type": "code",
      "source": [],
      "metadata": {
        "id": "h9PPFmygF3OJ"
      },
      "execution_count": null,
      "outputs": []
    }
  ]
}